{
 "cells": [
  {
   "cell_type": "markdown",
   "metadata": {
    "id": "bL451UHW6HT9"
   },
   "source": [
    "# ロジスティック回帰分類器(Logistic Regression Classifier)\n",
    "Model Definition: 確率的な2値分類および多クラス分類に適したロジスティック回帰モデル。\n",
    "\n",
    "Training: サンプリングされたトレーニングデータのサブセットで学習。L2正則化を適用し、過学習を防止。\n",
    "\n",
    "Prediction: 検証セットで予測確率と分類結果を計算。\n",
    "\n",
    "Evaluation: ロジスティック回帰モデルの性能を分析するため、分類レポートと精度指標を表示。"
   ]
  },
  {
   "cell_type": "code",
   "execution_count": null,
   "metadata": {
    "id": "BB8PG9spvMAt"
   },
   "outputs": [],
   "source": [
    "from google.colab import drive\n",
    "drive.mount('/content/drive')\n",
    "\n",
    "import pandas as pd\n",
    "import numpy as np\n",
    "from sklearn.linear_model import LogisticRegression\n",
    "from sklearn.metrics import accuracy_score, classification_report, confusion_matrix\n",
    "from sklearn.model_selection import train_test_split\n",
    "import os\n",
    "\n",
    "# Define dataset filenames\n",
    "train_file = \"train_1_split.csv\"\n",
    "val_file = \"val_1_split.csv\"\n",
    "\n",
    "# Construct dynamic paths based on the current working directory\n",
    "current_dir = os.getcwd()\n",
    "train_path = os.path.join(current_dir, \"/content/drive/MyDrive/image_analytics/data/features\", train_file)\n",
    "val_path = os.path.join(current_dir, \"/content/drive/MyDrive/image_analytics/data/features\", val_file)\n",
    "\n",
    "# Optional check if paths exist\n",
    "if not os.path.isfile(train_path):\n",
    "    print(f\"Warning: {train_path} が見つかりません\")\n",
    "if not os.path.isfile(val_path):\n",
    "    print(f\"Warning: {val_path} が見つかりません\")\n",
    "\n",
    "# Load the training and validation datasets\n",
    "train = pd.read_csv(train_path)\n",
    "val = pd.read_csv(val_path)"
   ]
  },
  {
   "cell_type": "code",
   "execution_count": null,
   "metadata": {
    "id": "UF5i7mXHvOgV"
   },
   "outputs": [],
   "source": [
    "# Separate features and labels\n",
    "X_train = train_data.drop(columns=[\"Unnamed: 0\", \"label\"])\n",
    "y_train = train_data[\"label\"]\n",
    "\n",
    "X_val = val_data.drop(columns=[\"Unnamed: 0\", \"label\"])\n",
    "y_val = val_data[\"label\"]\n",
    "\n",
    "# Confirm dimensions\n",
    "print(\"Training Features Shape:\", X_train.shape)\n",
    "print(\"Training Labels Shape:\", y_train.shape)\n",
    "print(\"Validation Features Shape:\", X_val.shape)\n",
    "print(\"Validation Labels Shape:\", y_val.shape)"
   ]
  },
  {
   "cell_type": "markdown",
   "metadata": {
    "id": "lhEKVZM4KE9A"
   },
   "source": [
    "## Logistic Regression Classifier: Training, Prediction, and Evaluation\n",
    "\n",
    "ここでは、ロジスティック回帰分類器を実装し、検証データでその性能を評価します。\n",
    "\n",
    "1. **必要なライブラリのインポート**\n",
    "\n",
    "2. **ロジスティック回帰分類器の定義**:\n",
    "  - `lr_clf`はL2正則化を使用し、過学習を防ぐために設定されています。\n",
    "  - 再現性を維持するために`random_state=42`を指定。\n",
    "  - 数値的な安定性のために`max_iter=100`を設定。\n",
    "\n",
    "3. **モデルのトレーニング**:\n",
    "  - 分類器は、特徴量とラベルの関係を学習するために、サンプリングされたトレーニングデータ（X_train_sampleとy_train_sample）で学習。\n",
    "\n",
    "4. **予測の実行**:\n",
    "  - 学習済みの分類器を使用して、検証データセット（X_val）に対し予測。これらの予測（lr_y_pred）は、検証セットの各サンプルに対する分類器の予測を提供する。\n",
    "\n",
    "5. **モデルの性能評価**:\n",
    "  - モデルの精度を計算し、これは正しい予測の割合を反映。\n",
    "  - 分類レポートは、各クラスの適合率、再現率、F1スコアなどの詳細な指標を提供し、異なるクラス間でのモデルの性能を理解するのに役立ちます。\n"
   ]
  },
  {
   "cell_type": "code",
   "execution_count": null,
   "metadata": {
    "id": "E9ZgGxZbvRK1"
   },
   "outputs": [],
   "source": [
    "from sklearn.linear_model import LogisticRegression\n",
    "from sklearn.metrics import accuracy_score, classification_report\n",
    "\n",
    "# Initialize the Logistic Regression model\n",
    "lr_clf = LogisticRegression(max_iter=100, random_state=42)\n",
    "\n",
    "# Train the model\n",
    "lr_clf.fit(X_train, y_train)\n",
    "\n",
    "# Predict on the validation set\n",
    "y_val_pred = lr_clf.predict(X_val)\n",
    "\n",
    "# Define the new path for saving the model inside the models folder\n",
    "model_save_path = \"/content/drive/MyDrive/image_analytics/models/lr_classifier.pkl\"\n",
    "\n",
    "# Save the trained model\n",
    "joblib.dump(lr_clf, model_save_path)\n",
    "\n",
    "print(f\"Model saved to {model_save_path}.\")\n",
    "\n",
    "# Evaluate the model\n",
    "print(\"Logistic Regression Classifier Accuracy:\", accuracy_score(y_val, y_val_pred))\n",
    "print(\"\\nClassification Report:\\n\", classification_report(y_val, y_val_pred))"
   ]
  },
  {
   "cell_type": "markdown",
   "metadata": {
    "id": "vad7La6KKRdW"
   },
   "source": [
    "### Model Evaluation Metrics\n",
    "\n",
    "モデルを評価するための包括的な指標のセットを計算し、表示します。\n",
    "\n",
    "1. **精度（**ACCURACY**）**: 正しい予測の全体的な割合。\n",
    "2. **適合率（**PRECISION**）（加重）**: クラスの不均衡を考慮した、全クラスの適合率の加重平均。\n",
    "3. **再現率（**RECALL**）（加重）**: 全クラスの再現率の加重平均。\n",
    "4. **F1スコア（**F1 SCORE**）（加重）**: 適合率と再現率のバランスを取る、全クラスのF1スコアの加重平均。"
   ]
  },
  {
   "cell_type": "code",
   "execution_count": null,
   "metadata": {
    "id": "MQHJH8rv6YvB"
   },
   "outputs": [],
   "source": [
    "from sklearn.metrics import precision_score, recall_score, f1_score, accuracy_score\n",
    "\n",
    "# Make Calculate Evaluation Metrics\n",
    "# Precision, Recall, F1-Score, and Accuracy\n",
    "precision = precision_score(y_val, y_val_pred, average='weighted')\n",
    "recall = recall_score(y_val, y_val_pred, average='weighted')\n",
    "f1 = f1_score(y_val, y_val_pred, average='weighted')\n",
    "accuracy = accuracy_score(y_val, y_val_pred)\n",
    "\n",
    "# Print the metrics\n",
    "print(\"SVM Model Evaluation Metrics:\")\n",
    "print(f\"Accuracy: {accuracy:.4f}\")\n",
    "print(f\"Precision: {precision:.4f}\")\n",
    "print(f\"Recall: {recall:.4f}\")\n",
    "print(f\"F1 Score: {f1:.4f}\")"
   ]
  }
 ],
 "metadata": {
  "colab": {
   "authorship_tag": "ABX9TyPmxCMI5hT6VsH/2B/AkM47",
   "provenance": []
  },
  "kernelspec": {
   "display_name": "Python 3",
   "name": "python3"
  },
  "language_info": {
   "name": "python"
  }
 },
 "nbformat": 4,
 "nbformat_minor": 0
}
