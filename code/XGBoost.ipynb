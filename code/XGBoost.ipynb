{
 "cells": [
  {
   "cell_type": "markdown",
   "metadata": {
    "id": "k9oeSJgTBdow"
   },
   "source": [
    "# XGBoost分類器(XGBoost Classifier)\n",
    "Model Definition: マルチクラス分類に最適化されたXGBoost分類器を使用。`eval_metric='mlogloss'`を指定し、高精度な予測を実現。\n",
    "\n",
    "Training: サンプリングされたトレーニングデータセットで学習を実施。\n",
    "\n",
    "Prediction: 検証セットで予測を行い、モデルの性能を評価。\n",
    "\n",
    "Evaluation: XGBoostモデルの性能を分析するため、分類レポートと精度指標を表示。また、特徴量の重要度も分析可能。"
   ]
  },
  {
   "cell_type": "code",
   "execution_count": null,
   "metadata": {
    "colab": {
     "base_uri": "https://localhost:8080/"
    },
    "executionInfo": {
     "elapsed": 96573,
     "status": "ok",
     "timestamp": 1731977790482,
     "user": {
      "displayName": "Koyuki Abe",
      "userId": "12823919113625994044"
     },
     "user_tz": -660
    },
    "id": "KvD5F2RRBdo_",
    "outputId": "39e13a53-c93e-4fd0-c8b2-fe8d2959e203"
   },
   "outputs": [],
   "source": [
    "from google.colab import drive\n",
    "drive.mount('/content/drive')\n",
    "\n",
    "import pandas as pd\n",
    "import numpy as np\n",
    "from sklearn.model_selection import train_test_split\n",
    "import os\n",
    "\n",
    "# Define dataset filenames\n",
    "train_file = \"train_1_split.csv\"\n",
    "val_file = \"val_1_split.csv\"\n",
    "\n",
    "# Construct dynamic paths based on the current working directory\n",
    "current_dir = os.getcwd()\n",
    "train_path = os.path.join(current_dir, \"/content/drive/MyDrive/image_analytics/data/features\", train_file)\n",
    "val_path = os.path.join(current_dir, \"/content/drive/MyDrive/image_analytics/data/features\", val_file)\n",
    "\n",
    "# Optional check if paths exist\n",
    "if not os.path.isfile(train_path):\n",
    "    print(f\"Warning: {train_path} が見つかりません\")\n",
    "if not os.path.isfile(val_path):\n",
    "    print(f\"Warning: {val_path} が見つかりません\")\n",
    "\n",
    "# Load the training and validation datasets\n",
    "train = pd.read_csv(train_path)\n",
    "val = pd.read_csv(val_path)\n",
    "\n",
    "# Separate features and labels for the training and validation sets\n",
    "X_train = train.iloc[:, 2:].astype(np.float32)\n",
    "y_train = train['label']\n",
    "X_val = val.iloc[:, 2:].astype(np.float32)\n",
    "y_val = val['label']\n",
    "\n",
    "# Sample a subset for training\n",
    "X_train_sample, _, y_train_sample, _ = train_test_split(X_train, y_train, train_size=50000, random_state=42, stratify=y_train)\n",
    "\n",
    "# Confirm dimensions\n",
    "print(\"Training Features Shape:\", X_train.shape)\n",
    "print(\"Training Labels Shape:\", y_train.shape)\n",
    "print(\"Validation Features Shape:\", X_val.shape)\n",
    "print(\"Validation Labels Shape:\", y_val.shape)\n"
   ]
  },
  {
   "cell_type": "markdown",
   "metadata": {
    "id": "SwhTXHzmBdpF"
   },
   "source": [
    "## XGBoost Model: Training, Prediction, and Evaluation\n",
    "ここでは、XGBoost分類器を実装し、検証データでその性能を評価します。\n",
    "1. **XGBoost分類器の定義**:\n",
    "  - 再現性を確保するために`random_state`を設定。\n",
    "  - 警告を避け、マルチクラス分類を最適化するために`use_label_encoder`を無効化し、`eval_metric='mlogloss'`を指定。\n",
    "\n",
    "2. **モデルのトレーニング**: 分類器はサンプリングされたトレーニングデータセットを使用して学習されます。\n",
    "\n",
    "3. **予測の実行**: 検証データセットに対して予測を生成しました。\n",
    "\n",
    "4. **分類器の評価**: 精度と各クラスの適合率、再現率、F1スコアを含む包括的な分類レポートを出力。"
   ]
  },
  {
   "cell_type": "code",
   "execution_count": null,
   "metadata": {
    "id": "437us7ZTBdpI",
    "outputId": "6cb97e87-88f7-4255-e9e5-c0f1aada152d"
   },
   "outputs": [],
   "source": [
    "# Define the XGBoost Classifier with default parameters\n",
    "xgb_clf = XGBClassifier(random_state=42, use_label_encoder=False, eval_metric='mlogloss')\n",
    "\n",
    "# Train the classifier on the sampled training data\n",
    "xgb_clf.fit(X_train_sample, y_train_sample)\n",
    "\n",
    "# Make predictions on the validation data\n",
    "xgb_y_pred = xgb_clf.predict(X_val)\n",
    "\n",
    "# Define the new path for saving the model inside the models folder\n",
    "model_save_path = \"/content/drive/MyDrive/image_analytics/models/svm_classifier.pkl\"\n",
    "\n",
    "# Save the trained model\n",
    "joblib.dump(xgb_clf, model_save_path)\n",
    "\n",
    "print(f\"Model saved to {model_save_path}.\")\n",
    "\n",
    "# Evaluate the model\n",
    "print(\"XGBoost Classifier Accuracy:\", accuracy_score(y_val, xgb_y_pred))\n",
    "print(\"\\nClassification Report:\\n\", classification_report(y_val, xgb_y_pred))\n"
   ]
  },
  {
   "cell_type": "markdown",
   "metadata": {
    "id": "6FeLHcONBdpJ"
   },
   "source": [
    "### Model Evaluation Metrics\n",
    "\n",
    "モデルを評価するための包括的な指標のセットを計算し、表示します。\n",
    "\n",
    "1. **精度（**ACCURACY**）**: 正しい予測の全体的な割合。\n",
    "2. **適合率（**PRECISION**）（加重）**: クラスの不均衡を考慮した、全クラスの適合率の加重平均。\n",
    "3. **再現率（**RECALL**）（加重）**: 全クラスの再現率の加重平均。\n",
    "4. **F1スコア（**F1 SCORE**）（加重）**: 適合率と再現率のバランスを取る、全クラスのF1スコアの加重平均。\n"
   ]
  },
  {
   "cell_type": "code",
   "execution_count": null,
   "metadata": {
    "id": "KLDsVkZxBdpJ"
   },
   "outputs": [],
   "source": [
    "# Display model metrics and classification report for XGBoost\n",
    "\n",
    "from sklearn.metrics import classification_report, accuracy_score\n",
    "\n",
    "# Make Calculate and display accuracy\n",
    "accuracy_xgb = accuracy_score(y_val, xgb_y_pred)\n",
    "print(f\"XGBoost Classifier Accuracy: {accuracy_xgb:.4f}\")\n",
    "\n",
    "# Generate and display classification report\n",
    "xgb_classification_report = classification_report(y_val, xgb_y_pred)\n",
    "print(\"\\nClassification Report:\\n\", xgb_classification_report)\n"
   ]
  },
  {
   "cell_type": "markdown",
   "metadata": {
    "id": "6xRDp7luBdpK"
   },
   "source": [
    "### XGBoost Model Performance Visualization\n",
    "1. **混同行列作成（**CONFUSION MATRIX**）**:\n",
    "  - 各クラスの真の予測と誤った予測の分布を示す混同行列のヒートマップ。\n",
    "  - 分類器がどこで良好な性能を示し、どこで誤分類するかを特定するのに役立ちます。\n",
    "\n",
    "2. **各クラスの**ROC**曲線と**AUC**値**:\n",
    "  - 各クラスの真陽性率と偽陽性率のトレードオフを示す**ROC**（Receiver Operating Characteristic）曲線を表示。\n",
    "  - **AUC**（Area Under the Curve）値は各クラスの分離可能性を測定し、高い**AUC**値はより良いクラス区別を示します。\n",
    "\n",
    "3. **特徴量重要度プロット（**FEATURE IMPORTANCE PLOT**）**:\n",
    "  - XGBoost分類器が使用する最も影響力のある上位10個の特徴量を強調表示。\n",
    "  - このプロットは、分類プロセスにどの特徴量が最も貢献したかを理解するのに役立ちます。\n"
   ]
  },
  {
   "cell_type": "code",
   "execution_count": null,
   "metadata": {
    "id": "pdthmkBTBdpM"
   },
   "outputs": [],
   "source": [
    "# Import necessary libraries for visualization\n",
    "import matplotlib.pyplot as plt\n",
    "import seaborn as sns\n",
    "from sklearn.metrics import confusion_matrix, roc_curve, auc\n",
    "from xgboost import plot_importance\n",
    "\n",
    "# Step 1: Confusion Matrix\n",
    "conf_matrix = confusion_matrix(y_val, xgb_y_pred)\n",
    "plt.figure(figsize=(10, 7))\n",
    "sns.heatmap(conf_matrix, annot=True, fmt='d', cmap='Blues')\n",
    "plt.title(\"Confusion Matrix for XGBoost Classifier\")\n",
    "plt.xlabel(\"Predicted Labels\")\n",
    "plt.ylabel(\"True Labels\")\n",
    "plt.show()\n",
    "\n",
    "# Step 2: ROC Curve and AUC for each class (One-vs-Rest)\n",
    "y_val_binary = label_binarize(y_val, classes=sorted(set(y_val)))\n",
    "xgb_y_pred_proba = xgb_clf.predict_proba(X_val)\n",
    "\n",
    "plt.figure(figsize=(10, 7))\n",
    "for i in range(y_val_binary.shape[1]):\n",
    "    fpr, tpr, _ = roc_curve(y_val_binary[:, i], xgb_y_pred_proba[:, i])\n",
    "    roc_auc = auc(fpr, tpr)\n",
    "    plt.plot(fpr, tpr, label=f\"Class {i} (AUC = {roc_auc:.2f})\")\n",
    "\n",
    "plt.plot([0, 1], [0, 1], \"k--\")\n",
    "plt.xlim([0.0, 1.0])\n",
    "plt.ylim([0.0, 1.05])\n",
    "plt.xlabel(\"False Positive Rate\")\n",
    "plt.ylabel(\"True Positive Rate\")\n",
    "plt.title(\"XGBoost Classifier ROC Curve (One-vs-Rest)\")\n",
    "plt.legend(loc=\"best\")\n",
    "plt.show()\n",
    "\n",
    "# Step 3: Feature Importance Plot\n",
    "plt.figure(figsize=(12, 8))\n",
    "plot_importance(xgb_clf, max_num_features=10, importance_type=\"weight\")\n",
    "plt.title(\"Top 10 Feature Importances for XGBoost Classifier\")\n",
    "plt.show()\n"
   ]
  }
 ],
 "metadata": {
  "colab": {
   "provenance": []
  },
  "kernelspec": {
   "display_name": "main_env",
   "language": "python",
   "name": "python3"
  },
  "language_info": {
   "codemirror_mode": {
    "name": "ipython",
    "version": 3
   },
   "file_extension": ".py",
   "mimetype": "text/x-python",
   "name": "python",
   "nbconvert_exporter": "python",
   "pygments_lexer": "ipython3",
   "version": "3.10.13"
  }
 },
 "nbformat": 4,
 "nbformat_minor": 0
}
